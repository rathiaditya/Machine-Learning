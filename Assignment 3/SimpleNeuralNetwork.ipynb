{
 "cells": [
  {
   "cell_type": "code",
   "execution_count": 1,
   "metadata": {},
   "outputs": [],
   "source": [
    "import numpy as np"
   ]
  },
  {
   "cell_type": "code",
   "execution_count": 14,
   "metadata": {},
   "outputs": [],
   "source": [
    "def sigmoid(x):\n",
    "    return 1/(1+np.exp(-x))\n",
    "\n",
    "def sigmoid_derivative(x):\n",
    "    return x*(1-x)\n",
    "\n",
    "\n",
    "\n",
    "training_input=np.array([[0,0,1],\n",
    "                          [1,1,1],\n",
    "                        [1,0,1],\n",
    "                        [0,1,1]])\n",
    "training_output=np.array([0,1,1,0]).T\n",
    "np.random.seed(1)"
   ]
  },
  {
   "cell_type": "code",
   "execution_count": 102,
   "metadata": {},
   "outputs": [
    {
     "name": "stdout",
     "output_type": "stream",
     "text": [
      "[[-0.30887855]\n",
      " [-0.20646505]\n",
      " [ 0.07763347]]\n"
     ]
    }
   ],
   "source": [
    "synaptic_weights=2*np.random.random((3,1))-1\n",
    "print(synaptic_weights)"
   ]
  },
  {
   "cell_type": "code",
   "execution_count": 110,
   "metadata": {},
   "outputs": [
    {
     "name": "stdout",
     "output_type": "stream",
     "text": [
      "[0.00679844 0.9944548  0.99548589 0.00553562]\n"
     ]
    }
   ],
   "source": [
    "for iteration in range(20000):\n",
    "    input_layer=training_input\n",
    "    outputs=sigmoid(np.dot(input_layer,synaptic_weights))\n",
    "    error=training_output-np.hstack(outputs)\n",
    "    adjustments=error*np.hstack((sigmoid_derivative(outputs)))\n",
    "    #print(outputs.shape)\n",
    "    synaptic_weights=np.hstack(synaptic_weights)+np.dot(input_layer.T,adjustments)\n",
    "    \n",
    "print(outputs)"
   ]
  }
 ],
 "metadata": {
  "kernelspec": {
   "display_name": "Python 3",
   "language": "python",
   "name": "python3"
  },
  "language_info": {
   "codemirror_mode": {
    "name": "ipython",
    "version": 3
   },
   "file_extension": ".py",
   "mimetype": "text/x-python",
   "name": "python",
   "nbconvert_exporter": "python",
   "pygments_lexer": "ipython3",
   "version": "3.7.1"
  }
 },
 "nbformat": 4,
 "nbformat_minor": 2
}
